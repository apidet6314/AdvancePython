{
 "cells": [
  {
   "cell_type": "code",
   "execution_count": 4,
   "id": "6de3ad17",
   "metadata": {},
   "outputs": [],
   "source": [
    "class Car:\n",
    "\n",
    "    # Properties คุณสมบัติของคลาส ส่วนนี้จำเป็นต้องมีทุกคลาส ไม่มีไม่ได้\n",
    "    color = \"No color\"\n",
    "    brand = \"No brand\"\n",
    "    number_of_seats = 4\n",
    "    number_of_wheels = 4\n",
    "    maxspeed = 0\n",
    "    plate_id = \"\"\n",
    "\n",
    "    # =============================================================\n",
    "    # Constructor ขึ้นต้นด้วย def เพราะเป็น function\n",
    "    # self หมายถึงเรียกตัวมันเองโดยทันที\n",
    "    def __init__(self, color, brand, number_of_seats, number_of_wheels, maxspeed, plate_id):  # รับค่าจากผู้ใช้ภายนอก\n",
    "        self.color = color  # self.color ส่งค่ากลับสู่ properties\n",
    "        self.brand = brand\n",
    "        self.number_of_seats = number_of_seats\n",
    "        self.number_of_wheels = number_of_wheels\n",
    "        self.maxspeed = maxspeed\n",
    "        self.plate_id = plate_id\n",
    "\n",
    "    # =============================================================\n",
    "    # Methods\n",
    "    def setColor(self, x):\n",
    "        self.color = x\n",
    "\n",
    "    def setBrand(self, x):\n",
    "        self.brand = x\n",
    "\n",
    "    def setNumberOfSeats(self, x):\n",
    "        self.number_of_seats = x\n",
    "\n",
    "    def setNumberOfWheels(self, x):\n",
    "        self.number_of_wheels = x\n",
    "\n",
    "    def setMaxSpeed(self, x):\n",
    "        self.maxspeed = x\n",
    "\n",
    "    def setPlateId(self, x):\n",
    "        self.plate_id = x\n",
    "    # =============================================================\n",
    "    # สร้าง print Data\n",
    "\n",
    "    def printData(self):\n",
    "        print(\"Color : \", self.color)\n",
    "        print(\"Brand : \", self.brand)\n",
    "        print(\"Seats : \", self.number_of_seats)\n",
    "        print(\"Wheels : \", self.number_of_wheels)\n",
    "        print(\"Max Speed : \", self.maxspeed)\n",
    "        print(\"Plate ID : \", self.plate_id)\n"
   ]
  },
  {
   "cell_type": "code",
   "execution_count": null,
   "id": "de2c17c5",
   "metadata": {},
   "outputs": [],
   "source": []
  },
  {
   "cell_type": "code",
   "execution_count": null,
   "id": "0aa78d0e",
   "metadata": {},
   "outputs": [],
   "source": []
  }
 ],
 "metadata": {
  "kernelspec": {
   "display_name": "Python 3 (ipykernel)",
   "language": "python",
   "name": "python3"
  },
  "language_info": {
   "codemirror_mode": {
    "name": "ipython",
    "version": 3
   },
   "file_extension": ".py",
   "mimetype": "text/x-python",
   "name": "python",
   "nbconvert_exporter": "python",
   "pygments_lexer": "ipython3",
   "version": "3.10.1"
  }
 },
 "nbformat": 4,
 "nbformat_minor": 5
}
