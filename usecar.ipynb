{
 "cells": [
  {
   "cell_type": "code",
   "execution_count": 5,
   "id": "769b4a16",
   "metadata": {
    "scrolled": true
   },
   "outputs": [
    {
     "name": "stdout",
     "output_type": "stream",
     "text": [
      "Enter favorite color : red\n",
      "Enter favorite brand : toyota\n",
      "Enter car seats : 4\n",
      "Enter car wheels : 4\n",
      "Enter car speed : 2000\n",
      "Enter car plate : 1กย9315\n",
      "Color :  red\n",
      "Brand :  toyota\n",
      "Seats :  4\n",
      "Wheels :  4\n",
      "Max Speed :  2000\n",
      "Plate ID :  1กย9315\n"
     ]
    }
   ],
   "source": [
    "# เรียกใช้ class ชื่อ Car.py\n",
    "from Car import *\n",
    "\n",
    "# # สร้าง Object Car print อัตโนมัติ\n",
    "# c1 = Car('Blue', 'Toyota', 7, 4, 200, 'abc1234')\n",
    "# c1.printData()\n",
    "# print(\"\\n\")\n",
    "# c2 = Car('Mate Color', 'Triumph', 1, 2, 200, '1ขผ36')\n",
    "# c2.printData()\n",
    "\n",
    "# สร้าง Object Car โดยรับค่าจากผู้ใข้\n",
    "c_color = input(\"Enter favorite color : \")\n",
    "c_brand = input(\"Enter favorite brand : \")\n",
    "c_seats = input(\"Enter car seats : \")\n",
    "c_wheels = input(\"Enter car wheels : \")\n",
    "c_speed = input(\"Enter car speed : \")\n",
    "c_plate = input(\"Enter car plate : \")\n",
    "\n",
    "c3 = Car(c_color, c_brand, c_seats, c_wheels, c_speed, c_plate)\n",
    "c3.printData()\n"
   ]
  },
  {
   "cell_type": "code",
   "execution_count": 7,
   "id": "c2ff8e9b",
   "metadata": {},
   "outputs": [],
   "source": [
    "from Car import *"
   ]
  },
  {
   "cell_type": "code",
   "execution_count": null,
   "id": "c495a42d",
   "metadata": {},
   "outputs": [],
   "source": [
    "import Car"
   ]
  }
 ],
 "metadata": {
  "kernelspec": {
   "display_name": "Python 3 (ipykernel)",
   "language": "python",
   "name": "python3"
  },
  "language_info": {
   "codemirror_mode": {
    "name": "ipython",
    "version": 3
   },
   "file_extension": ".py",
   "mimetype": "text/x-python",
   "name": "python",
   "nbconvert_exporter": "python",
   "pygments_lexer": "ipython3",
   "version": "3.10.1"
  }
 },
 "nbformat": 4,
 "nbformat_minor": 5
}
